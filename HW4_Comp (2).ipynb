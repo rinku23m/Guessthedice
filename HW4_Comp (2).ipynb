{
  "nbformat": 4,
  "nbformat_minor": 0,
  "metadata": {
    "colab": {
      "provenance": []
    },
    "kernelspec": {
      "name": "python3",
      "display_name": "Python 3"
    },
    "language_info": {
      "name": "python"
    }
  },
  "cells": [
    {
      "cell_type": "markdown",
      "source": [
        "This is a simple betting game named \"Guess the Dice Roll\", Here, initially the gamer will get total 100 coins to play. And he/she have to guess the numbers within the range. If gamer selects correct number within the range, wins the game otherwise lose the game after 7 number of inputs.\n",
        "\n"
      ],
      "metadata": {
        "id": "rFubEM-Dvlxr"
      }
    },
    {
      "cell_type": "code",
      "source": [
        "#Load random library\n",
        "import random\n",
        "\n",
        "#define play_game functioin\n",
        "def play_dice_game():\n",
        "    total_num_coins = 100 #Here total number of  coins is 100\n",
        "    max_guesses = 7 #Number of guesses is upto 7 times\n",
        "\n",
        "    print(\"Let's play the Dice Roll!\")\n",
        "    #Initially the game informs the client total number of coins initially as 100\n",
        "    print(\"You have\", total_num_coins, \"coins.\") \n",
        "\n",
        "    #checking whether total_coins is greater than 0 or not. Coins cannot be less than 0\n",
        "    while total_num_coins > 0:\n",
        "        print(\"\\nPlace your bet (or enter 0 to quit):\")\n",
        "        bet = int(input(\"Bet amount: \"))\n",
        "\n",
        "        if bet == 0:\n",
        "            print(\"Thank you for playing! You are leaving with\", total_num_coins, \"coins.\")\n",
        "            break\n",
        "\n",
        "        if bet > total_num_coins:\n",
        "            print(\"Insufficient coins. Please place a lower bet.\")\n",
        "            continue\n",
        "\n",
        "        print(\"Choose a range for the dice roll sum:\")\n",
        "        range_start = int(input(\"Range start: \"))\n",
        "        range_end = int(input(\"Range end: \"))\n",
        "\n",
        "        if range_start >= range_end:\n",
        "            print(\"Invalid range. Please try valid number.\")\n",
        "            continue\n",
        "\n",
        "        print(\"You have\", max_guesses, \"guesses remaining.\")\n",
        "\n",
        "        for _ in range(max_guesses):\n",
        "            dice_roll = random.randint(1, 6) + random.randint(1, 6)\n",
        "            print(\"Dice roll:\", dice_roll)\n",
        "\n",
        "            if range_start <= dice_roll <= range_end:\n",
        "                payout = bet * 2\n",
        "                total_num_coins += payout\n",
        "                print(\"Wow!! Congratulations! You won\", payout, \"coins.\")\n",
        "                break\n",
        "            else:\n",
        "                total_num_coins -= bet\n",
        "                print(\"Sorry, you lost\", bet, \"coins.\")\n",
        "\n",
        "            max_guesses -= 1\n",
        "            if max_guesses > 0:\n",
        "                print(\"You have\", max_guesses, \"guesses remaining.\")\n",
        "            else:\n",
        "                print(\"You have used all your guesses. Game over!\")\n",
        "                break\n",
        "\n",
        "        \n",
        "        if total_num_coins <= 0:\n",
        "            print(\"Game over! You have run out of coins.\")\n",
        "            break\n",
        "\n",
        "        print(\"You now have\", total_num_coins, \"coins.\")\n",
        "\n",
        "play_dice_game()\n",
        "           "
      ],
      "metadata": {
        "colab": {
          "base_uri": "https://localhost:8080/"
        },
        "id": "1ItwlMTfuGlX",
        "outputId": "5f7d884b-c6ff-43b5-d081-60a8e0508c16"
      },
      "execution_count": 12,
      "outputs": [
        {
          "output_type": "stream",
          "name": "stdout",
          "text": [
            "Let's play the Dice Roll!\n",
            "You have 100 coins.\n",
            "\n",
            "Place your bet (or enter 0 to quit):\n",
            "Bet amount: 44\n",
            "Choose a range for the dice roll sum:\n",
            "Range start: 45\n",
            "Range end: 23\n",
            "Invalid range. Please try valid number.\n",
            "\n",
            "Place your bet (or enter 0 to quit):\n",
            "Bet amount: 45\n",
            "Choose a range for the dice roll sum:\n",
            "Range start: 21\n",
            "Range end: 25\n",
            "You have 7 guesses remaining.\n",
            "Dice roll: 3\n",
            "Sorry, you lost 45 coins.\n",
            "You have 6 guesses remaining.\n",
            "Dice roll: 4\n",
            "Sorry, you lost 45 coins.\n",
            "You have 5 guesses remaining.\n",
            "Dice roll: 11\n",
            "Sorry, you lost 45 coins.\n",
            "You have 4 guesses remaining.\n",
            "Dice roll: 11\n",
            "Sorry, you lost 45 coins.\n",
            "You have 3 guesses remaining.\n",
            "Dice roll: 6\n",
            "Sorry, you lost 45 coins.\n",
            "You have 2 guesses remaining.\n",
            "Dice roll: 9\n",
            "Sorry, you lost 45 coins.\n",
            "You have 1 guesses remaining.\n",
            "Dice roll: 10\n",
            "Sorry, you lost 45 coins.\n",
            "You have used all your guesses. Game over!\n",
            "Game over! You have run out of coins.\n"
          ]
        }
      ]
    },
    {
      "cell_type": "code",
      "source": [
        "import random\n",
        "import matplotlib.pyplot as plt\n",
        "\n",
        "def simulate_game(num_iterations):\n",
        "    total_coins = 100\n",
        "    max_guesses = 7\n",
        "    wins = 0\n",
        "    losses = 0\n",
        "    win_rates = []\n",
        "\n",
        "    for i in range(1, num_iterations + 1):\n",
        "        current_coins = total_coins\n",
        "        current_guesses = max_guesses\n",
        "\n",
        "        while current_coins > 0 and current_guesses > 0:\n",
        "            bet = random.randint(1, current_coins)\n",
        "\n",
        "            range_start = random.randint(2, 10)\n",
        "            range_end = random.randint(range_start + 1, 12)\n",
        "\n",
        "            for _ in range(current_guesses):\n",
        "                dice_roll = random.randint(1, 6) + random.randint(1, 6)\n",
        "\n",
        "                if range_start <= dice_roll <= range_end:\n",
        "                    current_coins += bet * 2\n",
        "                    break\n",
        "                else:\n",
        "                    current_coins -= bet\n",
        "\n",
        "            current_guesses -= 1\n",
        "\n",
        "        if current_coins > total_coins:\n",
        "            wins += 1\n",
        "        else:\n",
        "            losses += 1\n",
        "\n",
        "        win_rate = wins / i\n",
        "        win_rates.append(win_rate)\n",
        "\n",
        "    # Plotting the win rate\n",
        "    plt.plot(range(1, num_iterations + 1), win_rates)\n",
        "    plt.xlabel(\"Number of iterations\")\n",
        "    plt.ylabel(\"Win Rate\")\n",
        "    plt.title(\"Win Rate vs. Number of Iterations\")\n",
        "    plt.show()\n",
        "\n",
        "    print(\"Monte Carlo simulation results:\")\n",
        "    print(\"Number of iterations:\", num_iterations)\n",
        "    print(\"Wins:\", wins)\n",
        "    print(\"Losses:\", losses)\n",
        "\n",
        "# Run the simulation with 1000 iterations and plot the win rate\n",
        "simulate_game(1000)\n"
      ],
      "metadata": {
        "colab": {
          "base_uri": "https://localhost:8080/",
          "height": 541
        },
        "id": "-N6UAaSMw_xn",
        "outputId": "d0150c2a-2944-46b0-f423-7d588d3701aa"
      },
      "execution_count": 13,
      "outputs": [
        {
          "output_type": "display_data",
          "data": {
            "text/plain": [
              "<Figure size 640x480 with 1 Axes>"
            ],
            "image/png": "[encoded data removed]"
          },
          "metadata": {}
        },
        {
          "output_type": "stream",
          "name": "stdout",
          "text": [
            "Monte Carlo simulation results:\n",
            "Number of iterations: 1000\n",
            "Wins: 313\n",
            "Losses: 687\n"
          ]
        }
      ]
    },
    {
      "cell_type": "markdown",
      "source": [
        "In above code, after each iteration, the gamer will win or lose will be calculated which is save or stored in list of win_rates.\n",
        "\n",
        "Then, the above plot is given showing number of iterations versus win rate.\n",
        "Here, the number of iterations is upto 1000, total wins is 313 and losses is 687.\n",
        "\n"
      ],
      "metadata": {
        "id": "rg67CskpxElR"
      }
    }
  ]
}